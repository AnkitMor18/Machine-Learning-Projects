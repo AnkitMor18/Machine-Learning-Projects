{
 "cells": [
  {
   "cell_type": "code",
   "execution_count": 1,
   "id": "86e7cb45",
   "metadata": {},
   "outputs": [],
   "source": [
    "import pandas as pd\n",
    "import numpy as np\n",
    "import matplotlib.pyplot as plt\n",
    "import seaborn as sns\n",
    "from sklearn.model_selection import train_test_split\n",
    "from sklearn.linear_model import LinearRegression\n",
    "from sklearn import preprocessing\n",
    "import random\n"
   ]
  },
  {
   "cell_type": "code",
   "execution_count": 29,
   "id": "93ec3c04",
   "metadata": {},
   "outputs": [],
   "source": [
    "c = ['sex' , 'length' , 'diameter' , 'hieght' , 'whole_weight' , 'sucked_weight' , 'viscera_weight', 'shell' , 'age-1.5']\n",
    "df = pd.read_csv(\"https://code.datasciencedojo.com/datasciencedojo/datasets/raw/master/Abalone/abalone.data.csv\",header = None)"
   ]
  },
  {
   "cell_type": "code",
   "execution_count": 33,
   "id": "69d23871",
   "metadata": {},
   "outputs": [],
   "source": [
    "df.columns = c"
   ]
  },
  {
   "cell_type": "code",
   "execution_count": 38,
   "id": "619aa9e5",
   "metadata": {},
   "outputs": [
    {
     "data": {
      "text/plain": [
       "Index(['sex', 'length', 'diameter', 'hieght', 'whole_weight', 'sucked_weight',\n",
       "       'viscera_weight', 'shell', 'age-1.5'],\n",
       "      dtype='object')"
      ]
     },
     "execution_count": 38,
     "metadata": {},
     "output_type": "execute_result"
    }
   ],
   "source": [
    "df.columns"
   ]
  },
  {
   "cell_type": "code",
   "execution_count": 173,
   "id": "3d2070da",
   "metadata": {},
   "outputs": [],
   "source": [
    "x = np.array(df.iloc[:,[1,2,3,4,5,6,7]])"
   ]
  },
  {
   "cell_type": "code",
   "execution_count": 174,
   "id": "9da955f5",
   "metadata": {},
   "outputs": [],
   "source": [
    "y = np.array(df.iloc[:,-1])"
   ]
  },
  {
   "cell_type": "code",
   "execution_count": 175,
   "id": "b7020ccf",
   "metadata": {},
   "outputs": [
    {
     "data": {
      "text/plain": [
       "(4177,)"
      ]
     },
     "execution_count": 175,
     "metadata": {},
     "output_type": "execute_result"
    }
   ],
   "source": [
    "y.shape"
   ]
  },
  {
   "cell_type": "code",
   "execution_count": 176,
   "id": "e37f6657",
   "metadata": {},
   "outputs": [
    {
     "data": {
      "text/plain": [
       "(4177, 7)"
      ]
     },
     "execution_count": 176,
     "metadata": {},
     "output_type": "execute_result"
    }
   ],
   "source": [
    "x.shape"
   ]
  },
  {
   "cell_type": "code",
   "execution_count": 177,
   "id": "747549b3",
   "metadata": {},
   "outputs": [],
   "source": [
    "# x = (x - np.mean(x)) / np.std(x)\n",
    "x = preprocessing.scale(x)"
   ]
  },
  {
   "cell_type": "code",
   "execution_count": 178,
   "id": "4bd3c6ea",
   "metadata": {},
   "outputs": [],
   "source": [
    "x = np.c_[x , np.ones(x.shape[0])]"
   ]
  },
  {
   "cell_type": "code",
   "execution_count": 179,
   "id": "3bbb6db1",
   "metadata": {},
   "outputs": [],
   "source": [
    "theta = np.ones(x.shape[1])"
   ]
  },
  {
   "cell_type": "code",
   "execution_count": 180,
   "id": "8364c95c",
   "metadata": {},
   "outputs": [],
   "source": [
    "def cost_func(x , y , theta):\n",
    "    m = len(y)\n",
    "    j = (1/2*m) * np.sum((np.dot(x,theta) - y)**2)\n",
    "    return j"
   ]
  },
  {
   "cell_type": "code",
   "execution_count": 181,
   "id": "16b73c5e",
   "metadata": {},
   "outputs": [],
   "source": [
    "lr = 0.1\n",
    "itr = 1500"
   ]
  },
  {
   "cell_type": "code",
   "execution_count": 182,
   "id": "e57632a1",
   "metadata": {},
   "outputs": [
    {
     "name": "stdout",
     "output_type": "stream",
     "text": [
      "score :  0.5250810568193868\n",
      "cofficients [-0.1302029   1.24963249  0.49748496  2.8438038  -3.74999294 -0.6747887\n",
      "  1.8117145   9.93368446]\n",
      "intercept 9.933684462532911\n",
      "[[6.51913480e+08]\n",
      " [5.20754448e+08]\n",
      " [4.30382220e+08]\n",
      " ...\n",
      " [4.30579357e+07]\n",
      " [4.30576246e+07]\n",
      " [4.30573139e+07]]\n"
     ]
    }
   ],
   "source": [
    "cost_value = np.zeros((itr,1))\n",
    "for i in range(itr):\n",
    "    m = len(y)\n",
    "    y_pred = np.dot(x ,theta)\n",
    "    errors = y_pred - y\n",
    "    slope = (1/m)*(np.dot(x.T,errors))\n",
    "    theta = theta - lr * slope\n",
    "    cost = cost_func(x ,y , theta)\n",
    "    cost_value[i] = cost\n",
    "    \n",
    "def score(y_truth , y_pred):\n",
    "    u = ((y_truth - y_pred)**2).sum()\n",
    "    v = ((y_truth - y_truth.mean())**2).sum()\n",
    "    return 1-u/v\n",
    "print('score : ' , score(y , y_pred))\n",
    "print('cofficients' , theta)\n",
    "print('intercept' , theta[-1])\n",
    "print(cost_value)"
   ]
  },
  {
   "cell_type": "code",
   "execution_count": 136,
   "id": "fad77c45",
   "metadata": {},
   "outputs": [
    {
     "data": {
      "image/png": "[encoded data removed]",
      "text/plain": [
       "<Figure size 432x288 with 1 Axes>"
      ]
     },
     "metadata": {
      "needs_background": "light"
     },
     "output_type": "display_data"
    }
   ],
   "source": [
    "plt.plot(cost_value)\n",
    "plt.xlabel('itr')\n",
    "plt.ylabel('Cost')\n",
    "plt.show()"
   ]
  },
  {
   "cell_type": "code",
   "execution_count": 153,
   "id": "7e203585",
   "metadata": {},
   "outputs": [],
   "source": [
    "a = pd.get_dummies(df.sex)"
   ]
  },
  {
   "cell_type": "code",
   "execution_count": 154,
   "id": "829cd6bf",
   "metadata": {},
   "outputs": [
    {
     "data": {
      "text/plain": [
       "(4177, 3)"
      ]
     },
     "execution_count": 154,
     "metadata": {},
     "output_type": "execute_result"
    }
   ],
   "source": [
    "a.shape"
   ]
  },
  {
   "cell_type": "code",
   "execution_count": 155,
   "id": "131c6343",
   "metadata": {},
   "outputs": [
    {
     "data": {
      "text/plain": [
       "(4177, 9)"
      ]
     },
     "execution_count": 155,
     "metadata": {},
     "output_type": "execute_result"
    }
   ],
   "source": [
    "df.shape"
   ]
  },
  {
   "cell_type": "code",
   "execution_count": 156,
   "id": "1e05610d",
   "metadata": {},
   "outputs": [],
   "source": [
    "df1 = pd.concat([df,a] , axis =1).drop('sex',axis=1)"
   ]
  },
  {
   "cell_type": "code",
   "execution_count": 157,
   "id": "af0211bb",
   "metadata": {},
   "outputs": [
    {
     "data": {
      "text/plain": [
       "(4177,)"
      ]
     },
     "execution_count": 157,
     "metadata": {},
     "output_type": "execute_result"
    }
   ],
   "source": [
    "y = np.array(df1['age-1.5'])\n",
    "y.shape"
   ]
  },
  {
   "cell_type": "code",
   "execution_count": 158,
   "id": "77ff413c",
   "metadata": {},
   "outputs": [],
   "source": [
    "df2 = df1.drop('age-1.5',axis=1)"
   ]
  },
  {
   "cell_type": "code",
   "execution_count": 159,
   "id": "8f0d6e1f",
   "metadata": {},
   "outputs": [],
   "source": [
    "x = np.array(df2)"
   ]
  },
  {
   "cell_type": "code",
   "execution_count": 160,
   "id": "f8983b30",
   "metadata": {},
   "outputs": [
    {
     "data": {
      "text/plain": [
       "(4177, 10)"
      ]
     },
     "execution_count": 160,
     "metadata": {},
     "output_type": "execute_result"
    }
   ],
   "source": [
    "x.shape"
   ]
  },
  {
   "cell_type": "code",
   "execution_count": 165,
   "id": "9867b59f",
   "metadata": {},
   "outputs": [],
   "source": [
    "# x = (x - np.mean(x)) / np.std(x\n",
    "x = preprocessing.scale(x)"
   ]
  },
  {
   "cell_type": "code",
   "execution_count": 166,
   "id": "f35ce950",
   "metadata": {},
   "outputs": [],
   "source": [
    "x = np.c_[x , np.ones(x.shape[0])]"
   ]
  },
  {
   "cell_type": "code",
   "execution_count": 167,
   "id": "e629ea1b",
   "metadata": {},
   "outputs": [],
   "source": [
    "theta = np.ones(x.shape[1])"
   ]
  },
  {
   "cell_type": "code",
   "execution_count": 172,
   "id": "7350981a",
   "metadata": {},
   "outputs": [
    {
     "name": "stdout",
     "output_type": "stream",
     "text": [
      "score :  0.5367232990153972\n",
      "cofficients [-0.04432794  1.07536316  0.45093178  3.25577103 -3.89069264 -0.88778032\n",
      "  1.63270508  1.10330234  0.7196797   1.17232623  1.          9.93368446]\n",
      "intercept 9.933684462532911\n",
      "[[42681623.09843914]\n",
      " [42680558.07229917]\n",
      " [42679494.56731153]\n",
      " ...\n",
      " [42002243.31741154]\n",
      " [42002102.79559056]\n",
      " [42001962.46158075]]\n"
     ]
    }
   ],
   "source": [
    "cost_value = np.zeros((itr,1))\n",
    "for i in range(itr):\n",
    "    m = len(y)\n",
    "    y_pred = np.dot(x ,theta)\n",
    "    errors = y_pred - y\n",
    "    slope = (1/m)*(np.dot(x.T,errors))\n",
    "    theta = theta - lr * slope\n",
    "    cost = cost_func(x ,y , theta)\n",
    "    cost_value[i] = cost\n",
    "    \n",
    "def score(y_truth , y_pred):\n",
    "    u = ((y_truth - y_pred)**2).sum()\n",
    "    v = ((y_truth - y_truth.mean())**2).sum()\n",
    "    return 1-u/v\n",
    "print('score : ' , score(y , y_pred))\n",
    "print('cofficients' , theta)\n",
    "print('intercept' , theta[-1])\n",
    "print(cost_value)"
   ]
  },
  {
   "cell_type": "code",
   "execution_count": 137,
   "id": "dc380dec",
   "metadata": {},
   "outputs": [],
   "source": [
    "alg = LinearRegression()"
   ]
  },
  {
   "cell_type": "code",
   "execution_count": 138,
   "id": "5e5d8355",
   "metadata": {},
   "outputs": [],
   "source": [
    "x_train , x_test , y_train , y_test = train_test_split(x,y)"
   ]
  },
  {
   "cell_type": "code",
   "execution_count": 139,
   "id": "962ee80e",
   "metadata": {},
   "outputs": [
    {
     "data": {
      "text/plain": [
       "LinearRegression()"
      ]
     },
     "execution_count": 139,
     "metadata": {},
     "output_type": "execute_result"
    }
   ],
   "source": [
    "alg.fit(x_train , y_train)"
   ]
  },
  {
   "cell_type": "code",
   "execution_count": 140,
   "id": "c47e3775",
   "metadata": {},
   "outputs": [],
   "source": [
    "yt_pred = alg.predict(x_train)"
   ]
  },
  {
   "cell_type": "code",
   "execution_count": 141,
   "id": "9589a155",
   "metadata": {},
   "outputs": [],
   "source": [
    "y_pred = alg.predict(x_test)"
   ]
  },
  {
   "cell_type": "code",
   "execution_count": 145,
   "id": "28a8e73f",
   "metadata": {},
   "outputs": [
    {
     "data": {
      "text/plain": [
       "0.5407487430156581"
      ]
     },
     "execution_count": 145,
     "metadata": {},
     "output_type": "execute_result"
    }
   ],
   "source": [
    "score(y_train,yt_pred)"
   ]
  },
  {
   "cell_type": "code",
   "execution_count": 144,
   "id": "5b4dbef9",
   "metadata": {},
   "outputs": [
    {
     "data": {
      "text/plain": [
       "0.5248907355612217"
      ]
     },
     "execution_count": 144,
     "metadata": {},
     "output_type": "execute_result"
    }
   ],
   "source": [
    "score(y_test,y_pred)"
   ]
  },
  {
   "cell_type": "code",
   "execution_count": null,
   "id": "08514108",
   "metadata": {},
   "outputs": [],
   "source": []
  }
 ],
 "metadata": {
  "kernelspec": {
   "display_name": "Python 3",
   "language": "python",
   "name": "python3"
  },
  "language_info": {
   "codemirror_mode": {
    "name": "ipython",
    "version": 3
   },
   "file_extension": ".py",
   "mimetype": "text/x-python",
   "name": "python",
   "nbconvert_exporter": "python",
   "pygments_lexer": "ipython3",
   "version": "3.9.12"
  }
 },
 "nbformat": 4,
 "nbformat_minor": 5
}
