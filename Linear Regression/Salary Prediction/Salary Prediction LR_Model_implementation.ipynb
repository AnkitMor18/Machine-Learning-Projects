{
 "cells": [
  {
   "cell_type": "code",
   "execution_count": 1,
   "id": "52080c8c",
   "metadata": {},
   "outputs": [],
   "source": [
    "import pandas as pd\n",
    "import numpy as np\n",
    "import matplotlib.pyplot as plt\n",
    "import seaborn as sns\n",
    "%matplotlib inline"
   ]
  },
  {
   "cell_type": "code",
   "execution_count": 2,
   "id": "e024ff23",
   "metadata": {},
   "outputs": [],
   "source": [
    "from sklearn.model_selection import train_test_split\n",
    "from sklearn.linear_model import LinearRegression\n",
    "from sklearn import metrics\n",
    "from sklearn.datasets import load_boston"
   ]
  },
  {
   "cell_type": "code",
   "execution_count": 4,
   "id": "27f1d41b",
   "metadata": {},
   "outputs": [],
   "source": [
    "data = np.loadtxt(r'C:\\Users\\Sumit\\Downloads\\ML\\New folder\\26.Linear Regression\\26.Linear Regression\\11.Analysis of LR using dummy Data\\data.csv', delimiter = ',')"
   ]
  },
  {
   "cell_type": "code",
   "execution_count": 5,
   "id": "087fb2fc",
   "metadata": {},
   "outputs": [
    {
     "data": {
      "text/plain": [
       "(100, 1)"
      ]
     },
     "execution_count": 5,
     "metadata": {},
     "output_type": "execute_result"
    }
   ],
   "source": [
    "x = data[:,0].reshape(-1, 1)\n",
    "y = data[:,1]\n",
    "x.shape"
   ]
  },
  {
   "cell_type": "code",
   "execution_count": 6,
   "id": "6e90c701",
   "metadata": {},
   "outputs": [],
   "source": [
    "X_train, X_test, y_train, y_test = train_test_split(x, y)"
   ]
  },
  {
   "cell_type": "code",
   "execution_count": 7,
   "id": "eb59eccc",
   "metadata": {},
   "outputs": [],
   "source": [
    "alg1 = LinearRegression()"
   ]
  },
  {
   "cell_type": "code",
   "execution_count": 8,
   "id": "0d162e18",
   "metadata": {},
   "outputs": [
    {
     "data": {
      "text/plain": [
       "LinearRegression()"
      ]
     },
     "execution_count": 8,
     "metadata": {},
     "output_type": "execute_result"
    }
   ],
   "source": [
    "alg1.fit(X_train,y_train)"
   ]
  },
  {
   "cell_type": "code",
   "execution_count": 9,
   "id": "fcca10ed",
   "metadata": {},
   "outputs": [
    {
     "name": "stdout",
     "output_type": "stream",
     "text": [
      "Value of cofficient m : [1.23946236]\n",
      "Value of intercept y :  11.639291467757147\n"
     ]
    }
   ],
   "source": [
    "print('Value of cofficient m :' , alg1.coef_)\n",
    "print('Value of intercept y : ' , alg1.intercept_)"
   ]
  },
  {
   "cell_type": "markdown",
   "id": "26ec1230",
   "metadata": {},
   "source": [
    "## Plot training Data"
   ]
  },
  {
   "cell_type": "code",
   "execution_count": 10,
   "id": "5cb7fea7",
   "metadata": {},
   "outputs": [
    {
     "data": {
      "image/png": "[encoded data removed]",
      "text/plain": [
       "<Figure size 432x288 with 1 Axes>"
      ]
     },
     "metadata": {
      "needs_background": "light"
     },
     "output_type": "display_data"
    }
   ],
   "source": [
    "import matplotlib.pyplot as plt\n",
    "\n",
    "m = alg1.coef_[0]\n",
    "c = alg1.intercept_\n",
    "\n",
    "# now making a line with these values of m and c to fit in training data:\n",
    "\n",
    "x_line = np.arange(30,70,0.1)  # random poins for a line \n",
    "y_line = m * x_line + c  # required line with m and c \n",
    "\n",
    "\n",
    "plt.plot(x_line, y_line, \"r\") # our made line plot\n",
    "\n",
    "train_1d = X_train.reshape(75) # X_train have 75 points , reshaping it to make scatter plot \n",
    "\n",
    "plt.scatter(X_train, y_train) \n",
    "plt.show()"
   ]
  },
  {
   "cell_type": "code",
   "execution_count": 11,
   "id": "3f7b27fc",
   "metadata": {},
   "outputs": [
    {
     "data": {
      "image/png": "[encoded data removed]",
      "text/plain": [
       "<Figure size 432x288 with 1 Axes>"
      ]
     },
     "metadata": {
      "needs_background": "light"
     },
     "output_type": "display_data"
    }
   ],
   "source": [
    "import matplotlib.pyplot as plt\n",
    "m = alg1.coef_[0]\n",
    "c = alg1.intercept_\n",
    "\n",
    "x_line = np.arange(30,70,0.1)\n",
    "y_line = m * x_line + c\n",
    "plt.plot(x_line, y_line, \"r\")\n",
    "train_1d = X_test.reshape(25)\n",
    "plt.scatter(X_test, y_test)\n",
    "plt.show()"
   ]
  },
  {
   "cell_type": "code",
   "execution_count": 12,
   "id": "a21dbab1",
   "metadata": {},
   "outputs": [
    {
     "data": {
      "text/plain": [
       "0.6315374642306351"
      ]
     },
     "execution_count": 12,
     "metadata": {},
     "output_type": "execute_result"
    }
   ],
   "source": [
    "score_on_test_data = alg1.score(X_test,y_test)\n",
    "score_on_test_data  # the more it is close to 1 , the best it is "
   ]
  },
  {
   "cell_type": "code",
   "execution_count": 13,
   "id": "bf1c030f",
   "metadata": {},
   "outputs": [
    {
     "data": {
      "text/plain": [
       "0.543668199869044"
      ]
     },
     "execution_count": 13,
     "metadata": {},
     "output_type": "execute_result"
    }
   ],
   "source": [
    "score_on_train_data = alg1.score(X_train,y_train)\n",
    "score_on_train_data"
   ]
  },
  {
   "cell_type": "code",
   "execution_count": null,
   "id": "4398d255",
   "metadata": {},
   "outputs": [],
   "source": []
  },
  {
   "cell_type": "markdown",
   "id": "d7bd81a7",
   "metadata": {},
   "source": [
    "## New"
   ]
  },
  {
   "cell_type": "code",
   "execution_count": 74,
   "id": "56f243dd",
   "metadata": {},
   "outputs": [
    {
     "data": {
      "text/plain": [
       "(100,)"
      ]
     },
     "execution_count": 74,
     "metadata": {},
     "output_type": "execute_result"
    }
   ],
   "source": [
    "x = data[:,0]\n",
    "y = data[:,1]\n",
    "x.shape\n",
    "y.shape\n"
   ]
  },
  {
   "cell_type": "code",
   "execution_count": 75,
   "id": "5353a1b2",
   "metadata": {},
   "outputs": [],
   "source": [
    "X_train, X_test, y_train, y_test = train_test_split(x, y)"
   ]
  },
  {
   "cell_type": "code",
   "execution_count": 76,
   "id": "3414bd73",
   "metadata": {},
   "outputs": [],
   "source": [
    "def fit(X_train , y_train):\n",
    "    num1 = (X_train*y_train).mean() - X_train.mean()*y_train.mean()\n",
    "    den1 = (X_train**2).mean() - (X_train.mean())**2\n",
    "    m = num1/den1\n",
    "    c = y_train.mean() - m*(X_train.mean())\n",
    "    return m , c"
   ]
  },
  {
   "cell_type": "code",
   "execution_count": 203,
   "id": "97e24a9c",
   "metadata": {},
   "outputs": [],
   "source": [
    "def prdict(x ,m,c):\n",
    "    return m*x+c"
   ]
  },
  {
   "cell_type": "code",
   "execution_count": 78,
   "id": "5964fd60",
   "metadata": {},
   "outputs": [],
   "source": [
    "def score(y_truth , y_pred):\n",
    "    u = ((y_truth - y_pred)**2).sum()\n",
    "    v = ((y_truth - y_truth.mean())**2).sum()\n",
    "    return 1-u/v"
   ]
  },
  {
   "cell_type": "code",
   "execution_count": 79,
   "id": "10e91dd0",
   "metadata": {},
   "outputs": [
    {
     "name": "stdout",
     "output_type": "stream",
     "text": [
      "Test Score:  0.5326224732982873\n",
      "Train Score:  0.6135013842526489\n",
      "M, C  1.3005514743403332 7.924696824569651\n"
     ]
    }
   ],
   "source": [
    "m, c = fit(X_train, y_train)\n",
    "# test data\n",
    "y_test_pred = prdict(X_test, m, c)\n",
    "print(\"Test Score: \",score(y_test, y_test_pred))\n",
    "\n",
    "#train data\n",
    "y_train_pred = prdict(X_train, m, c)\n",
    "print(\"Train Score: \", score(y_train, y_train_pred))\n",
    "print(\"M, C \", m , c)\n",
    "# print(\"Cost on training data \", cost(X_train,y_train, m, c ))"
   ]
  },
  {
   "cell_type": "markdown",
   "id": "c0123c87",
   "metadata": {},
   "source": [
    "### ***"
   ]
  },
  {
   "cell_type": "code",
   "execution_count": 122,
   "id": "a8800a52",
   "metadata": {},
   "outputs": [
    {
     "data": {
      "image/png": "[encoded data removed]",
      "text/plain": [
       "<Figure size 432x288 with 1 Axes>"
      ]
     },
     "metadata": {
      "needs_background": "light"
     },
     "output_type": "display_data"
    }
   ],
   "source": [
    "x_line = np.arange(20,70,0.1)   # random poins for a line \n",
    "y_line = m * x_line + c  # required line with m and c \n",
    "\n",
    "plt.plot(x_line, y_line, \"r\") # our made line plot\n",
    "\n",
    "train_1d = X_train # X_train have 75 points , reshaping it to make scatter plot \n",
    "\n",
    "plt.scatter(X_train, Y_train) \n",
    "plt.show()"
   ]
  },
  {
   "cell_type": "markdown",
   "id": "9b640f22",
   "metadata": {},
   "source": [
    "### Gradient Descent"
   ]
  },
  {
   "cell_type": "code",
   "execution_count": 208,
   "id": "bf850a5f",
   "metadata": {},
   "outputs": [],
   "source": [
    "def step_gd(points, learning_rate , m , c):\n",
    "    M = len(points)\n",
    "    m_deriv = 0\n",
    "    c_deriv = 0\n",
    "    for i in range(M):\n",
    "        x = points[i , 0]\n",
    "        y = points[i , 1]\n",
    "        m_deriv = m_deriv + (-2/M)*((y - m*x - c)*x)\n",
    "        c_deriv = c_deriv + (-2/M)*(y - m*x - c)\n",
    "    new_m = m - learning_rate*m_deriv\n",
    "    new_c = c - learning_rate*c_deriv\n",
    "    return new_m , new_c\n",
    "    "
   ]
  },
  {
   "cell_type": "code",
   "execution_count": 209,
   "id": "82d4961e",
   "metadata": {},
   "outputs": [],
   "source": [
    "def cost_func(points , m ,c):\n",
    "    total_cost = 0\n",
    "    M = len(points)\n",
    "    for i in range(M):\n",
    "        x = points[i , 0]\n",
    "        y = points[i , 1]\n",
    "        total_cost = total_cost + (1/M)*(y - m*x - c)\n",
    "        \n",
    "    return total_cost\n",
    "    \n",
    "    "
   ]
  },
  {
   "cell_type": "code",
   "execution_count": 210,
   "id": "1140751a",
   "metadata": {},
   "outputs": [],
   "source": [
    "def gd(points, learning_rate , num_itration):\n",
    "    m = 0\n",
    "    c = 0\n",
    "    for i in range(num_itration):\n",
    "        m , c = step_gd(points, learning_rate , m , c)\n",
    "#         print(i , 'Cost' , cost_func(points , m , c))\n",
    "    return m , c "
   ]
  },
  {
   "cell_type": "code",
   "execution_count": 211,
   "id": "ffcf1a6c",
   "metadata": {},
   "outputs": [],
   "source": [
    "def run():\n",
    "    num_itration = 100\n",
    "    learning_rate = 0.0001\n",
    "    points = data\n",
    "    m,c = gd(points, learning_rate , num_itration)\n",
    "    return m , c"
   ]
  },
  {
   "cell_type": "code",
   "execution_count": 212,
   "id": "96b4d37a",
   "metadata": {},
   "outputs": [],
   "source": [
    "m ,c = run()\n",
    "X_train, X_test, y_train, y_test = train_test_split(x, y)"
   ]
  },
  {
   "cell_type": "code",
   "execution_count": 213,
   "id": "6cbcb467",
   "metadata": {},
   "outputs": [
    {
     "data": {
      "text/plain": [
       "<matplotlib.collections.PathCollection at 0x26255fad580>"
      ]
     },
     "execution_count": 213,
     "metadata": {},
     "output_type": "execute_result"
    },
    {
     "data": {
      "image/png": "[encoded data removed]",
      "text/plain": [
       "<Figure size 432x288 with 1 Axes>"
      ]
     },
     "metadata": {
      "needs_background": "light"
     },
     "output_type": "display_data"
    }
   ],
   "source": [
    "x_line = np.arange(80)\n",
    "y_line = m*x_line + c\n",
    "plt.plot(y_line,'r')\n",
    "plt.scatter(X_train , y_train )"
   ]
  },
  {
   "cell_type": "code",
   "execution_count": 214,
   "id": "844cdfcd",
   "metadata": {},
   "outputs": [
    {
     "data": {
      "text/plain": [
       "<matplotlib.collections.PathCollection at 0x262560af100>"
      ]
     },
     "execution_count": 214,
     "metadata": {},
     "output_type": "execute_result"
    },
    {
     "data": {
      "image/png": "[encoded data removed]",
      "text/plain": [
       "<Figure size 432x288 with 1 Axes>"
      ]
     },
     "metadata": {
      "needs_background": "light"
     },
     "output_type": "display_data"
    }
   ],
   "source": [
    "x_line = np.arange(100)\n",
    "y_line = m*x_line + c\n",
    "plt.plot(y_line,'r')\n",
    "plt.scatter(X_test , y_test )"
   ]
  },
  {
   "cell_type": "code",
   "execution_count": 215,
   "id": "e9ce6619",
   "metadata": {},
   "outputs": [
    {
     "data": {
      "text/plain": [
       "0.5921219306617701"
      ]
     },
     "execution_count": 215,
     "metadata": {},
     "output_type": "execute_result"
    }
   ],
   "source": [
    "y_pred = prdict(X_train , m , c)\n",
    "\n",
    "score(y_train , y_pred)\n"
   ]
  },
  {
   "cell_type": "code",
   "execution_count": 216,
   "id": "024682b4",
   "metadata": {},
   "outputs": [
    {
     "data": {
      "text/plain": [
       "0.5686929686886948"
      ]
     },
     "execution_count": 216,
     "metadata": {},
     "output_type": "execute_result"
    }
   ],
   "source": [
    "y_pred = prdict(X_test , m , c)\n",
    "\n",
    "score(y_test , y_pred)\n"
   ]
  },
  {
   "cell_type": "markdown",
   "id": "7d738eeb",
   "metadata": {},
   "source": [
    "## Diabetes Dataset"
   ]
  },
  {
   "cell_type": "code",
   "execution_count": 218,
   "id": "6fe73c50",
   "metadata": {},
   "outputs": [],
   "source": [
    "from sklearn import datasets"
   ]
  },
  {
   "cell_type": "code",
   "execution_count": 221,
   "id": "3ac13253",
   "metadata": {},
   "outputs": [],
   "source": [
    "diabetes = datasets.load_diabetes()"
   ]
  },
  {
   "cell_type": "code",
   "execution_count": 222,
   "id": "ceda259b",
   "metadata": {},
   "outputs": [
    {
     "data": {
      "text/plain": [
       "dict_keys(['data', 'target', 'frame', 'DESCR', 'feature_names', 'data_filename', 'target_filename', 'data_module'])"
      ]
     },
     "execution_count": 222,
     "metadata": {},
     "output_type": "execute_result"
    }
   ],
   "source": [
    "diabetes.keys()"
   ]
  },
  {
   "cell_type": "code",
   "execution_count": 224,
   "id": "03d25a73",
   "metadata": {},
   "outputs": [
    {
     "data": {
      "text/plain": [
       "['age', 'sex', 'bmi', 'bp', 's1', 's2', 's3', 's4', 's5', 's6']"
      ]
     },
     "execution_count": 224,
     "metadata": {},
     "output_type": "execute_result"
    }
   ],
   "source": [
    "diabetes['feature_names']"
   ]
  },
  {
   "cell_type": "code",
   "execution_count": 234,
   "id": "a60362d8",
   "metadata": {},
   "outputs": [
    {
     "data": {
      "text/plain": [
       "(442,)"
      ]
     },
     "execution_count": 234,
     "metadata": {},
     "output_type": "execute_result"
    }
   ],
   "source": [
    "diabetes['target'].shape"
   ]
  },
  {
   "cell_type": "code",
   "execution_count": 237,
   "id": "c83a47a0",
   "metadata": {},
   "outputs": [],
   "source": [
    "features = pd.DataFrame(diabetes['data'] , columns = diabetes['feature_names'])"
   ]
  },
  {
   "cell_type": "code",
   "execution_count": 295,
   "id": "5c87ba2d",
   "metadata": {},
   "outputs": [],
   "source": [
    "X_train, X_test, y_train, y_test = train_test_split(features , diabetes['target'] )"
   ]
  },
  {
   "cell_type": "code",
   "execution_count": 240,
   "id": "b52718f4",
   "metadata": {},
   "outputs": [
    {
     "data": {
      "text/plain": [
       "(331, 10)"
      ]
     },
     "execution_count": 240,
     "metadata": {},
     "output_type": "execute_result"
    }
   ],
   "source": [
    "X_train.shape"
   ]
  },
  {
   "cell_type": "code",
   "execution_count": 299,
   "id": "65427774",
   "metadata": {},
   "outputs": [],
   "source": [
    "# np.ones((X_train.shape[0], 2))"
   ]
  },
  {
   "cell_type": "code",
   "execution_count": 248,
   "id": "21162f97",
   "metadata": {},
   "outputs": [],
   "source": [
    "alg2 = LinearRegression()"
   ]
  },
  {
   "cell_type": "code",
   "execution_count": 249,
   "id": "409a4678",
   "metadata": {},
   "outputs": [
    {
     "data": {
      "text/plain": [
       "LinearRegression()"
      ]
     },
     "execution_count": 249,
     "metadata": {},
     "output_type": "execute_result"
    }
   ],
   "source": [
    "alg2.fit(X_train , y_train)"
   ]
  },
  {
   "cell_type": "code",
   "execution_count": 251,
   "id": "3cacc818",
   "metadata": {},
   "outputs": [],
   "source": [
    "y_pred = alg2.predict(X_test)"
   ]
  },
  {
   "cell_type": "code",
   "execution_count": 252,
   "id": "66e13679",
   "metadata": {},
   "outputs": [
    {
     "data": {
      "text/plain": [
       "0.5589900464587594"
      ]
     },
     "execution_count": 252,
     "metadata": {},
     "output_type": "execute_result"
    }
   ],
   "source": [
    "score(y_test , y_pred)"
   ]
  },
  {
   "cell_type": "code",
   "execution_count": 253,
   "id": "f986f025",
   "metadata": {},
   "outputs": [
    {
     "data": {
      "text/plain": [
       "0.5020164215983389"
      ]
     },
     "execution_count": 253,
     "metadata": {},
     "output_type": "execute_result"
    }
   ],
   "source": [
    "y_train_pred = alg2.predict(X_train)\n",
    "score(y_train , y_train_pred)"
   ]
  },
  {
   "cell_type": "code",
   "execution_count": null,
   "id": "fc7a9a07",
   "metadata": {},
   "outputs": [],
   "source": []
  },
  {
   "cell_type": "code",
   "execution_count": 293,
   "id": "02e2b4f1",
   "metadata": {},
   "outputs": [
    {
     "data": {
      "text/plain": [
       "array([ -28.4729746 , -270.48613597,  513.98064517,  311.51642023,\n",
       "       -496.62866341,  283.34123754,  -71.6867944 ,   67.35100715,\n",
       "        665.6721926 ,   73.57035374])"
      ]
     },
     "execution_count": 293,
     "metadata": {},
     "output_type": "execute_result"
    }
   ],
   "source": [
    "alg2.coef_"
   ]
  },
  {
   "cell_type": "code",
   "execution_count": 294,
   "id": "adeb61cf",
   "metadata": {},
   "outputs": [
    {
     "data": {
      "text/plain": [
       "152.22471257116015"
      ]
     },
     "execution_count": 294,
     "metadata": {},
     "output_type": "execute_result"
    }
   ],
   "source": [
    "alg2.intercept_"
   ]
  },
  {
   "cell_type": "code",
   "execution_count": 264,
   "id": "81acffcf",
   "metadata": {},
   "outputs": [],
   "source": [
    "def fit(X_train , y_train):\n",
    "    num1 = (X_train*y_train).mean() - X_train.mean()*y_train.mean()\n",
    "    den1 = (X_train**2).mean() - (X_train.mean())**2\n",
    "    m = num1/den1\n",
    "    c = y_train.mean() - m*(X_train.mean())\n",
    "    return m , c"
   ]
  },
  {
   "cell_type": "code",
   "execution_count": 290,
   "id": "3b88a3cf",
   "metadata": {},
   "outputs": [
    {
     "name": "stdout",
     "output_type": "stream",
     "text": [
      "394    9.403039\n",
      "199    3.753760\n",
      "313    9.758995\n",
      "33     2.680542\n",
      "277   -2.212791\n",
      "         ...   \n",
      "379   -0.075281\n",
      "37    -2.524598\n",
      "54    -8.937113\n",
      "320   -2.888624\n",
      "122    8.815234\n",
      "Name: age, Length: 331, dtype: float64\n"
     ]
    },
    {
     "ename": "AttributeError",
     "evalue": "'NoneType' object has no attribute 'mean'",
     "output_type": "error",
     "traceback": [
      "\u001b[1;31m---------------------------------------------------------------------------\u001b[0m",
      "\u001b[1;31mAttributeError\u001b[0m                            Traceback (most recent call last)",
      "Input \u001b[1;32mIn [290]\u001b[0m, in \u001b[0;36m<cell line: 4>\u001b[1;34m()\u001b[0m\n\u001b[0;32m      1\u001b[0m \u001b[38;5;66;03m# X_train['age']*y_train\u001b[39;00m\n\u001b[0;32m      2\u001b[0m \n\u001b[0;32m      3\u001b[0m \u001b[38;5;66;03m# (X_train)*y_train\u001b[39;00m\n\u001b[0;32m      4\u001b[0m \u001b[38;5;28;01mfor\u001b[39;00m i \u001b[38;5;129;01min\u001b[39;00m diabetes[\u001b[38;5;124m'\u001b[39m\u001b[38;5;124mfeature_names\u001b[39m\u001b[38;5;124m'\u001b[39m]:\n\u001b[1;32m----> 5\u001b[0m     \u001b[38;5;28;43mprint\u001b[39;49m\u001b[43m(\u001b[49m\u001b[43mX_train\u001b[49m\u001b[43m[\u001b[49m\u001b[43mi\u001b[49m\u001b[43m]\u001b[49m\u001b[38;5;241;43m*\u001b[39;49m\u001b[43my_train\u001b[49m\u001b[43m)\u001b[49m\u001b[38;5;241;43m.\u001b[39;49m\u001b[43mmean\u001b[49m()\n",
      "\u001b[1;31mAttributeError\u001b[0m: 'NoneType' object has no attribute 'mean'"
     ]
    }
   ],
   "source": [
    "# X_train['age']*y_train\n",
    "\n",
    "# (X_train)*y_train\n",
    "for i in diabetes['feature_names']:\n",
    "    print(X_train[i]*y_train).mean()"
   ]
  },
  {
   "cell_type": "code",
   "execution_count": 265,
   "id": "c8b5a904",
   "metadata": {},
   "outputs": [],
   "source": [
    "def prdict(x ,m,c):\n",
    "    return m*x+c"
   ]
  },
  {
   "cell_type": "code",
   "execution_count": 266,
   "id": "5e2b6a72",
   "metadata": {},
   "outputs": [],
   "source": [
    "def score(y_truth , y_pred):\n",
    "    u = ((y_truth - y_pred)**2).sum()\n",
    "    v = ((y_truth - y_truth.mean())**2).sum()\n",
    "    return 1-u/v\n"
   ]
  },
  {
   "cell_type": "code",
   "execution_count": 291,
   "id": "0ee78f88",
   "metadata": {},
   "outputs": [],
   "source": [
    "# fit(X_train, y_train)\n",
    "# # # test data\n",
    "# # y_test_pred = prdict(X_test, m, c)\n",
    "# # print(\"Test Score: \",score(y_test, y_test_pred))\n",
    "\n",
    "# # #train data\n",
    "# # y_train_pred = prdict(X_train, m, c)\n",
    "# # print(\"Train Score: \", score(y_train, y_train_pred))\n",
    "# # print(\"M, C \", m , c)\n",
    "# # # print(\"Cost on training data \", cost(X_train,y_train, m, c ))"
   ]
  },
  {
   "cell_type": "code",
   "execution_count": 305,
   "id": "bea8a84b",
   "metadata": {},
   "outputs": [
    {
     "data": {
      "text/plain": [
       "array([1, 1, 1])"
      ]
     },
     "execution_count": 305,
     "metadata": {},
     "output_type": "execute_result"
    }
   ],
   "source": [
    "a = np.array([1,1,1])\n",
    "a"
   ]
  },
  {
   "cell_type": "code",
   "execution_count": 310,
   "id": "bac11089",
   "metadata": {},
   "outputs": [
    {
     "data": {
      "text/plain": [
       "array([[1, 2, 1],\n",
       "       [4, 5, 1],\n",
       "       [5, 6, 1]])"
      ]
     },
     "execution_count": 310,
     "metadata": {},
     "output_type": "execute_result"
    }
   ],
   "source": [
    "arr = np.array([[1, 2, 1], [4, 5, 1],[5,6,1]])\n",
    "arr"
   ]
  },
  {
   "cell_type": "code",
   "execution_count": 311,
   "id": "703d63cf",
   "metadata": {},
   "outputs": [
    {
     "data": {
      "text/plain": [
       "array([ 4, 10, 12])"
      ]
     },
     "execution_count": 311,
     "metadata": {},
     "output_type": "execute_result"
    }
   ],
   "source": [
    "np.dot(arr,a)"
   ]
  }
 ],
 "metadata": {
  "kernelspec": {
   "display_name": "Python 3",
   "language": "python",
   "name": "python3"
  },
  "language_info": {
   "codemirror_mode": {
    "name": "ipython",
    "version": 3
   },
   "file_extension": ".py",
   "mimetype": "text/x-python",
   "name": "python",
   "nbconvert_exporter": "python",
   "pygments_lexer": "ipython3",
   "version": "3.9.12"
  }
 },
 "nbformat": 4,
 "nbformat_minor": 5
}
